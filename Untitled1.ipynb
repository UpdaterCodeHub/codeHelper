{
 "cells": [
  {
   "cell_type": "code",
   "execution_count": 1,
   "id": "cc13e45d",
   "metadata": {},
   "outputs": [
    {
     "name": "stdout",
     "output_type": "stream",
     "text": [
      "\n",
      "     active environment : base\n",
      "    active env location : /home/kaushik/anaconda3\n",
      "            shell level : 1\n",
      "       user config file : /home/kaushik/.condarc\n",
      " populated config files : /home/kaushik/.condarc\n",
      "          conda version : 4.12.0\n",
      "    conda-build version : 3.21.8\n",
      "         python version : 3.8.12.final.0\n",
      "       virtual packages : __cuda=11.6=0\n",
      "                          __linux=5.15.0=0\n",
      "                          __glibc=2.35=0\n",
      "                          __unix=0=0\n",
      "                          __archspec=1=x86_64\n",
      "       base environment : /home/kaushik/anaconda3  (writable)\n",
      "      conda av data dir : /home/kaushik/anaconda3/etc/conda\n",
      "  conda av metadata url : None\n",
      "           channel URLs : https://repo.anaconda.com/pkgs/main/linux-64\n",
      "                          https://repo.anaconda.com/pkgs/main/noarch\n",
      "                          https://repo.anaconda.com/pkgs/r/linux-64\n",
      "                          https://repo.anaconda.com/pkgs/r/noarch\n",
      "          package cache : /home/kaushik/anaconda3/pkgs\n",
      "                          /home/kaushik/.conda/pkgs\n",
      "       envs directories : /home/kaushik/anaconda3/envs\n",
      "                          /home/kaushik/.conda/envs\n",
      "               platform : linux-64\n",
      "             user-agent : conda/4.12.0 requests/2.27.1 CPython/3.8.12 Linux/5.15.0-40-generic ubuntu/22.04 glibc/2.35\n",
      "                UID:GID : 1000:1000\n",
      "             netrc file : None\n",
      "           offline mode : False\n",
      "\n",
      "\n",
      "Note: you may need to restart the kernel to use updated packages.\n"
     ]
    }
   ],
   "source": [
    "%conda info"
   ]
  },
  {
   "cell_type": "code",
   "execution_count": 2,
   "id": "e32b32d6",
   "metadata": {},
   "outputs": [
    {
     "name": "stderr",
     "output_type": "stream",
     "text": [
      "2022-07-08 09:14:20.157036: I tensorflow/stream_executor/platform/default/dso_loader.cc:49] Successfully opened dynamic library libcudart.so.10.1\n"
     ]
    }
   ],
   "source": [
    "import tensorflow as tf"
   ]
  },
  {
   "cell_type": "code",
   "execution_count": 3,
   "id": "252a5caa",
   "metadata": {},
   "outputs": [
    {
     "data": {
      "text/plain": [
       "'2.4.1'"
      ]
     },
     "execution_count": 3,
     "metadata": {},
     "output_type": "execute_result"
    }
   ],
   "source": [
    "tf.__version__"
   ]
  },
  {
   "cell_type": "code",
   "execution_count": 4,
   "id": "f781782b",
   "metadata": {},
   "outputs": [
    {
     "name": "stdout",
     "output_type": "stream",
     "text": [
      "1 Physical GPUs 1 logical GPUs\n",
      "Tf will attempt to allocate only as much GPU Memory as needed for runtime allowed\n"
     ]
    },
    {
     "name": "stderr",
     "output_type": "stream",
     "text": [
      "2022-07-08 09:14:50.901843: I tensorflow/compiler/jit/xla_cpu_device.cc:41] Not creating XLA devices, tf_xla_enable_xla_devices not set\n",
      "2022-07-08 09:14:50.904838: I tensorflow/stream_executor/platform/default/dso_loader.cc:49] Successfully opened dynamic library libcuda.so.1\n",
      "2022-07-08 09:14:50.960701: I tensorflow/core/common_runtime/gpu/gpu_device.cc:1720] Found device 0 with properties: \n",
      "pciBusID: 0000:65:00.0 name: Quadro GV100 computeCapability: 7.0\n",
      "coreClock: 1.627GHz coreCount: 80 deviceMemorySize: 31.74GiB deviceMemoryBandwidth: 810.62GiB/s\n",
      "2022-07-08 09:14:50.960763: I tensorflow/stream_executor/platform/default/dso_loader.cc:49] Successfully opened dynamic library libcudart.so.10.1\n",
      "2022-07-08 09:14:51.003727: I tensorflow/stream_executor/platform/default/dso_loader.cc:49] Successfully opened dynamic library libcublas.so.10\n",
      "2022-07-08 09:14:51.003846: I tensorflow/stream_executor/platform/default/dso_loader.cc:49] Successfully opened dynamic library libcublasLt.so.10\n",
      "2022-07-08 09:14:51.029210: I tensorflow/stream_executor/platform/default/dso_loader.cc:49] Successfully opened dynamic library libcufft.so.10\n",
      "2022-07-08 09:14:51.035278: I tensorflow/stream_executor/platform/default/dso_loader.cc:49] Successfully opened dynamic library libcurand.so.10\n",
      "2022-07-08 09:14:51.078758: I tensorflow/stream_executor/platform/default/dso_loader.cc:49] Successfully opened dynamic library libcusolver.so.10\n",
      "2022-07-08 09:14:51.086913: I tensorflow/stream_executor/platform/default/dso_loader.cc:49] Successfully opened dynamic library libcusparse.so.10\n",
      "2022-07-08 09:14:51.169137: I tensorflow/stream_executor/platform/default/dso_loader.cc:49] Successfully opened dynamic library libcudnn.so.7\n",
      "2022-07-08 09:14:51.170151: I tensorflow/core/common_runtime/gpu/gpu_device.cc:1862] Adding visible gpu devices: 0\n",
      "2022-07-08 09:14:51.171456: I tensorflow/core/platform/cpu_feature_guard.cc:142] This TensorFlow binary is optimized with oneAPI Deep Neural Network Library (oneDNN) to use the following CPU instructions in performance-critical operations:  SSE4.1 SSE4.2 AVX AVX2 AVX512F FMA\n",
      "To enable them in other operations, rebuild TensorFlow with the appropriate compiler flags.\n",
      "2022-07-08 09:14:51.173860: I tensorflow/core/common_runtime/gpu/gpu_device.cc:1720] Found device 0 with properties: \n",
      "pciBusID: 0000:65:00.0 name: Quadro GV100 computeCapability: 7.0\n",
      "coreClock: 1.627GHz coreCount: 80 deviceMemorySize: 31.74GiB deviceMemoryBandwidth: 810.62GiB/s\n",
      "2022-07-08 09:14:51.173914: I tensorflow/stream_executor/platform/default/dso_loader.cc:49] Successfully opened dynamic library libcudart.so.10.1\n",
      "2022-07-08 09:14:51.173957: I tensorflow/stream_executor/platform/default/dso_loader.cc:49] Successfully opened dynamic library libcublas.so.10\n",
      "2022-07-08 09:14:51.173984: I tensorflow/stream_executor/platform/default/dso_loader.cc:49] Successfully opened dynamic library libcublasLt.so.10\n",
      "2022-07-08 09:14:51.174009: I tensorflow/stream_executor/platform/default/dso_loader.cc:49] Successfully opened dynamic library libcufft.so.10\n",
      "2022-07-08 09:14:51.174035: I tensorflow/stream_executor/platform/default/dso_loader.cc:49] Successfully opened dynamic library libcurand.so.10\n",
      "2022-07-08 09:14:51.174060: I tensorflow/stream_executor/platform/default/dso_loader.cc:49] Successfully opened dynamic library libcusolver.so.10\n",
      "2022-07-08 09:14:51.174084: I tensorflow/stream_executor/platform/default/dso_loader.cc:49] Successfully opened dynamic library libcusparse.so.10\n",
      "2022-07-08 09:14:51.174109: I tensorflow/stream_executor/platform/default/dso_loader.cc:49] Successfully opened dynamic library libcudnn.so.7\n",
      "2022-07-08 09:14:51.174681: I tensorflow/core/common_runtime/gpu/gpu_device.cc:1862] Adding visible gpu devices: 0\n",
      "2022-07-08 09:14:51.175340: I tensorflow/stream_executor/platform/default/dso_loader.cc:49] Successfully opened dynamic library libcudart.so.10.1\n",
      "2022-07-08 09:14:52.749859: I tensorflow/core/common_runtime/gpu/gpu_device.cc:1261] Device interconnect StreamExecutor with strength 1 edge matrix:\n",
      "2022-07-08 09:14:52.749892: I tensorflow/core/common_runtime/gpu/gpu_device.cc:1267]      0 \n",
      "2022-07-08 09:14:52.749901: I tensorflow/core/common_runtime/gpu/gpu_device.cc:1280] 0:   N \n",
      "2022-07-08 09:14:52.750901: I tensorflow/core/common_runtime/gpu/gpu_device.cc:1406] Created TensorFlow device (/job:localhost/replica:0/task:0/device:GPU:0 with 749 MB memory) -> physical GPU (device: 0, name: Quadro GV100, pci bus id: 0000:65:00.0, compute capability: 7.0)\n",
      "2022-07-08 09:14:52.752089: I tensorflow/compiler/jit/xla_gpu_device.cc:99] Not creating XLA devices, tf_xla_enable_xla_devices not set\n"
     ]
    }
   ],
   "source": [
    "import tensorflow as tf\n",
    "\n",
    "gpus = tf.config.list_physical_devices('GPU')\n",
    "\n",
    "if gpus:\n",
    "  try:\n",
    "    for gpu in gpus:\n",
    "      tf.config.experimental.set_memory_growth(gpu, True)\n",
    "    logical_gpus = tf.config.experimental.list_logical_devices('GPU')\n",
    "    print(len(gpus), \"Physical GPUs\", len(logical_gpus), \"logical GPUs\")\n",
    "  except RuntimeError as e:\n",
    "    print(e)\n",
    "\n",
    "print(\"Tf will attempt to allocate only as much GPU Memory as needed for runtime allowed\")"
   ]
  },
  {
   "cell_type": "code",
   "execution_count": 5,
   "id": "9d531b5c",
   "metadata": {},
   "outputs": [
    {
     "name": "stdout",
     "output_type": "stream",
     "text": [
      "Time to multiply a (1000, 1000) matrix by itself 100 times: \n",
      "CPU: 0.22162866592407227 secs\n"
     ]
    },
    {
     "name": "stderr",
     "output_type": "stream",
     "text": [
      "2022-07-08 09:15:26.528246: I tensorflow/stream_executor/platform/default/dso_loader.cc:49] Successfully opened dynamic library libcublas.so.10\n"
     ]
    },
    {
     "name": "stdout",
     "output_type": "stream",
     "text": [
      "GPU: 0.027420520782470703 secs\n",
      "GPU speedup over CPU: 8x\n"
     ]
    }
   ],
   "source": [
    "import time\n",
    "\n",
    "def measure(x, steps):\n",
    "  tf.matmul(x,x)\n",
    "  start = time.time()\n",
    "\n",
    "  for i in range(steps):\n",
    "    x = tf.matmul(x,x)\n",
    "  \n",
    "  _ = x.numpy()\n",
    "  end = time.time()\n",
    "  return end - start\n",
    "\n",
    "shape = (1000,1000)\n",
    "steps = 100\n",
    "\n",
    "print(\"Time to multiply a {} matrix by itself {} times: \".format(shape, steps))\n",
    "\n",
    "with tf.device(\"/cpu:0\"):\n",
    "  cpu_time1 = measure(tf.random.normal(shape), steps)\n",
    "  print(\"CPU: {} secs\". format(cpu_time1))\n",
    "\n",
    "\n",
    "if tf.config.list_physical_devices(\"GPU\"):\n",
    "  with tf.device(\"/gpu:0\"):\n",
    "    gpu_time1 = measure(tf.random.normal(shape), steps)\n",
    "    print(\"GPU: {} secs\". format(gpu_time1))\n",
    "else:\n",
    "  print(\"GPU: nor found\")\n",
    "\n",
    "print(\"GPU speedup over CPU: {}x\" .format(int(cpu_time1/gpu_time1)))"
   ]
  },
  {
   "cell_type": "code",
   "execution_count": 6,
   "id": "8b885e33",
   "metadata": {},
   "outputs": [
    {
     "name": "stderr",
     "output_type": "stream",
     "text": [
      "2022-07-08 09:16:01.502356: I tensorflow/stream_executor/platform/default/dso_loader.cc:49] Successfully opened dynamic library libcudnn.so.7\n",
      "2022-07-08 09:16:03.098807: I tensorflow/stream_executor/cuda/cuda_driver.cc:789] failed to allocate 256.00M (268435456 bytes) from device: CUDA_ERROR_OUT_OF_MEMORY: out of memory\n",
      "2022-07-08 09:16:03.100290: I tensorflow/stream_executor/cuda/cuda_driver.cc:789] failed to allocate 230.40M (241592064 bytes) from device: CUDA_ERROR_OUT_OF_MEMORY: out of memory\n",
      "2022-07-08 09:16:03.101743: I tensorflow/stream_executor/cuda/cuda_driver.cc:789] failed to allocate 207.36M (217433088 bytes) from device: CUDA_ERROR_OUT_OF_MEMORY: out of memory\n",
      "2022-07-08 09:16:03.106088: I tensorflow/stream_executor/cuda/cuda_driver.cc:789] failed to allocate 241.81M (253559296 bytes) from device: CUDA_ERROR_OUT_OF_MEMORY: out of memory\n",
      "2022-07-08 09:16:03.106118: W tensorflow/core/common_runtime/bfc_allocator.cc:314] Garbage collection: deallocate free memory regions (i.e., allocations) so that we can re-allocate a larger region to avoid OOM due to memory fragmentation. If you see this message frequently, you are running near the threshold of the available device memory and re-allocation may incur great performance overhead. You may try smaller batch sizes to observe the performance impact. Set TF_ENABLE_GPU_GARBAGE_COLLECTION=false if you'd like to disable this feature.\n",
      "2022-07-08 09:16:03.121215: I tensorflow/stream_executor/cuda/cuda_driver.cc:789] failed to allocate 273.81M (287113728 bytes) from device: CUDA_ERROR_OUT_OF_MEMORY: out of memory\n",
      "2022-07-08 09:16:03.121249: W tensorflow/core/common_runtime/bfc_allocator.cc:248] Allocator (GPU_0_bfc) ran out of memory trying to allocate 16.05MiB with freed_by_count=0. The caller indicates that this is not a failure, but may mean that there could be performance gains if more memory were available.\n",
      "2022-07-08 09:16:03.183276: W tensorflow/stream_executor/gpu/asm_compiler.cc:63] Running ptxas --version returned 256\n",
      "2022-07-08 09:16:03.236506: W tensorflow/stream_executor/gpu/redzone_allocator.cc:314] Internal: ptxas exited with non-zero error code 256, output: \n",
      "Relying on driver to perform ptx compilation. \n",
      "Modify $PATH to customize ptxas location.\n",
      "This message will be only logged once.\n",
      "2022-07-08 09:16:03.298907: W tensorflow/core/common_runtime/bfc_allocator.cc:248] Allocator (GPU_0_bfc) ran out of memory trying to allocate 511.49MiB with freed_by_count=0. The caller indicates that this is not a failure, but may mean that there could be performance gains if more memory were available.\n",
      "2022-07-08 09:16:03.299037: W tensorflow/core/common_runtime/bfc_allocator.cc:248] Allocator (GPU_0_bfc) ran out of memory trying to allocate 422.62MiB with freed_by_count=0. The caller indicates that this is not a failure, but may mean that there could be performance gains if more memory were available.\n",
      "2022-07-08 09:16:03.303604: I tensorflow/stream_executor/cuda/cuda_driver.cc:789] failed to allocate 273.81M (287113728 bytes) from device: CUDA_ERROR_OUT_OF_MEMORY: out of memory\n",
      "2022-07-08 09:16:03.303656: W tensorflow/core/common_runtime/bfc_allocator.cc:248] Allocator (GPU_0_bfc) ran out of memory trying to allocate 45.50MiB with freed_by_count=0. The caller indicates that this is not a failure, but may mean that there could be performance gains if more memory were available.\n",
      "2022-07-08 09:16:03.339646: W tensorflow/core/framework/cpu_allocator_impl.cc:80] Allocation of 113100800 exceeds 10% of free system memory.\n",
      "2022-07-08 09:16:03.380014: W tensorflow/core/framework/cpu_allocator_impl.cc:80] Allocation of 113100800 exceeds 10% of free system memory.\n",
      "2022-07-08 09:16:03.430977: W tensorflow/core/framework/cpu_allocator_impl.cc:80] Allocation of 113100800 exceeds 10% of free system memory.\n",
      "2022-07-08 09:16:03.461183: W tensorflow/core/framework/cpu_allocator_impl.cc:80] Allocation of 113100800 exceeds 10% of free system memory.\n",
      "2022-07-08 09:16:03.499393: W tensorflow/core/framework/cpu_allocator_impl.cc:80] Allocation of 113100800 exceeds 10% of free system memory.\n"
     ]
    },
    {
     "name": "stdout",
     "output_type": "stream",
     "text": [
      "30 Loops of convolve 32x7x7x3 filter over randowm 100x100x100xx3 images:\n",
      "CPU 2.0050409230025252\n",
      "GPU: 0.0766758240024501\n",
      "GPU speedup over CPU: 26x\n"
     ]
    }
   ],
   "source": [
    "import timeit\n",
    "tf.config.run_functions_eagerly(True)\n",
    "\n",
    "@tf.function\n",
    "\n",
    "def conv_fn():\n",
    "  image = tf.random.normal((100,100,100,3))\n",
    "  net = tf.keras.layers.Conv2D(32,7)(image)\n",
    "  return tf.reduce_sum(net)\n",
    "\n",
    "# warm up\n",
    "conv_fn()\n",
    "\n",
    "print(\"30 Loops of convolve 32x7x7x3 filter over randowm 100x100x100xx3 images:\")\n",
    "\n",
    "with tf.device(\"/cpu:0\"):\n",
    "  cpu_time2 = timeit.timeit(lambda: conv_fn(), number=30)\n",
    "  print(\"CPU\", cpu_time2)\n",
    "\n",
    "if tf.config.list_physical_devices(\"GPU\"):\n",
    "  with tf.device(\"/gpu:0\"):\n",
    "    gpu_time2 = timeit.timeit(lambda: conv_fn(), number=30)\n",
    "    print(\"GPU:\", gpu_time2)\n",
    "else:\n",
    "  print(\"GPU: not found\")\n",
    "\n",
    "print('GPU speedup over CPU: {}x'.format(int(cpu_time2/gpu_time2)))"
   ]
  },
  {
   "cell_type": "code",
   "execution_count": null,
   "id": "d45d9a98",
   "metadata": {},
   "outputs": [],
   "source": []
  }
 ],
 "metadata": {
  "kernelspec": {
   "display_name": "Python 3 (ipykernel)",
   "language": "python",
   "name": "python3"
  },
  "language_info": {
   "codemirror_mode": {
    "name": "ipython",
    "version": 3
   },
   "file_extension": ".py",
   "mimetype": "text/x-python",
   "name": "python",
   "nbconvert_exporter": "python",
   "pygments_lexer": "ipython3",
   "version": "3.8.12"
  }
 },
 "nbformat": 4,
 "nbformat_minor": 5
}
