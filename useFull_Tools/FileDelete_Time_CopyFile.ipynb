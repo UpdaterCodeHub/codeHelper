{
 "cells": [
  {
   "cell_type": "markdown",
   "id": "2cd133b3",
   "metadata": {},
   "source": [
    "# <font color=red> Converting Image Format </font>"
   ]
  },
  {
   "cell_type": "code",
   "execution_count": 1,
   "id": "dc96238e",
   "metadata": {},
   "outputs": [],
   "source": [
    "import os\n",
    "import re\n",
    "from PIL import Image\n"
   ]
  },
  {
   "cell_type": "code",
   "execution_count": 21,
   "id": "6eccb4f1",
   "metadata": {},
   "outputs": [],
   "source": [
    "image_folder = 'LungData/moonyIEEDataset/test/Covid-19/'"
   ]
  },
  {
   "cell_type": "code",
   "execution_count": 22,
   "id": "20dea5f9",
   "metadata": {},
   "outputs": [],
   "source": [
    "output_folder = 'LungData/moonyIEEDataset/test/Covid-19_jpeg'"
   ]
  },
  {
   "cell_type": "code",
   "execution_count": 25,
   "id": "fff46732",
   "metadata": {},
   "outputs": [
    {
     "name": "stdout",
     "output_type": "stream",
     "text": [
      "All done!\n"
     ]
    }
   ],
   "source": [
    "for image in images:\n",
    "    img = Image.open(f'{image_folder}/{image}')\n",
    "    cleaned_name = os.path.splitext(image)[0]\n",
    "    img.save(f'{output_folder}/{cleaned_name}.jpeg', 'png')\n",
    "\n",
    "print('All done!')"
   ]
  },
  {
   "cell_type": "markdown",
   "id": "2a629aff",
   "metadata": {},
   "source": [
    "## <font color=red>  Count number of files in a directory </font>"
   ]
  },
  {
   "cell_type": "code",
   "execution_count": 29,
   "id": "f05a020b",
   "metadata": {},
   "outputs": [],
   "source": [
    "image_folder = 'LungData/moonyIEEDataset/test/Covid-19/'"
   ]
  },
  {
   "cell_type": "code",
   "execution_count": 23,
   "id": "60d93fa7",
   "metadata": {},
   "outputs": [],
   "source": [
    "images = os.listdir(image_folder)"
   ]
  },
  {
   "cell_type": "code",
   "execution_count": 24,
   "id": "b118e277",
   "metadata": {},
   "outputs": [
    {
     "data": {
      "text/plain": [
       "176"
      ]
     },
     "execution_count": 24,
     "metadata": {},
     "output_type": "execute_result"
    }
   ],
   "source": [
    "len(images)"
   ]
  },
  {
   "cell_type": "code",
   "execution_count": 28,
   "id": "cc5ab888",
   "metadata": {},
   "outputs": [
    {
     "name": "stdout",
     "output_type": "stream",
     "text": [
      "file count: 698\n"
     ]
    }
   ],
   "source": [
    "count = 0\n",
    "for root_dir, cur_dir, files in os.walk(r'LungData/moonyIEEDataset/train/Covid_19/'):\n",
    "    count += len(files)\n",
    "print('file count:', count)\n",
    "class0 = count"
   ]
  },
  {
   "cell_type": "markdown",
   "id": "e6f483ca",
   "metadata": {},
   "source": [
    "## <font color=red> Delete Files from a directory </font>"
   ]
  },
  {
   "cell_type": "code",
   "execution_count": null,
   "id": "ac735bc1",
   "metadata": {},
   "outputs": [],
   "source": [
    "count = 0\n",
    "c = 1\n",
    "n_delete = 5000\n",
    "\n",
    "\n",
    "dirr = r'Ratina_class/Ratina_class2/'\n",
    "for root_dir, cur_dir, files in os.walk(dir):\n",
    "    count += len(files)\n",
    "    #print(files)\n",
    "    \n",
    "    for f in files:\n",
    "        if c>=1 and c<=n_delete:\n",
    "            file = dirr + f\n",
    "            print(\"Deleting file: \", file)\n",
    "            os.remove(file)\n",
    "        else:   \n",
    "            break\n",
    "        c = c+1\n",
    "            \n",
    "            \n",
    "print('file count:', count)\n",
    "print('Total Delted Files:', c)"
   ]
  },
  {
   "cell_type": "markdown",
   "id": "9c465be3",
   "metadata": {},
   "source": [
    "### <font color=red> Version 2 (delete file)</font>"
   ]
  },
  {
   "cell_type": "code",
   "execution_count": null,
   "id": "95949a20",
   "metadata": {},
   "outputs": [],
   "source": [
    "\n",
    "dirr = r'Retina_class/Retina_class0/'\n",
    "for root_dir, cur_dir, files in os.walk(dirr):\n",
    "    count += len(files)\n",
    "    #print(files)\n",
    "    \n",
    "    for f in files:\n",
    "        if c>=1 and c<=del_file:\n",
    "            file = dirr + f\n",
    "            print(\"Deleting file: \", file)\n",
    "            os.remove(file)\n",
    "        else:   \n",
    "            break\n",
    "        c = c+1\n",
    "            \n",
    "            \n",
    "print('file count:', count)\n",
    "print('Total Delted Files:', c)"
   ]
  },
  {
   "cell_type": "markdown",
   "id": "e543f47e",
   "metadata": {},
   "source": [
    "# <font color=red> Time Calculation for any task like train DL/ML model, image to array conversion and soo on"
   ]
  },
  {
   "cell_type": "code",
   "execution_count": 48,
   "id": "ef100791",
   "metadata": {},
   "outputs": [],
   "source": [
    "import time\n",
    "import os\n",
    "import cv2\n",
    "import numpy as np"
   ]
  },
  {
   "cell_type": "code",
   "execution_count": 49,
   "id": "e7e9160d",
   "metadata": {},
   "outputs": [],
   "source": [
    "dataset = []  \n",
    "label = [] "
   ]
  },
  {
   "cell_type": "code",
   "execution_count": 55,
   "id": "9c677a95",
   "metadata": {},
   "outputs": [],
   "source": [
    "start_time = time.time()"
   ]
  },
  {
   "cell_type": "code",
   "execution_count": 56,
   "id": "6f6539f8",
   "metadata": {},
   "outputs": [
    {
     "name": "stderr",
     "output_type": "stream",
     "text": [
      "libpng warning: iCCP: known incorrect sRGB profile\n",
      "libpng warning: iCCP: profile 'ICC Profile': 0h: PCS illuminant is not D50\n"
     ]
    }
   ],
   "source": [
    "Ratina_class1_images = os.listdir(r'LungData/moonyIEEDataset/train/Covid_19/')\n",
    "for i, image_name in enumerate(Ratina_class1_images):\n",
    "    if (image_name.split('.')[1] == 'jpeg'):\n",
    "        image = cv2.imread(r'LungData/moonyIEEDataset/train/Covid_19/' + image_name)\n",
    "        image = Image.fromarray(image)\n",
    "        image = image.resize((128, 128))\n",
    "        dataset.append(np.array(image))\n",
    "        label.append(0)"
   ]
  },
  {
   "cell_type": "code",
   "execution_count": 57,
   "id": "91b5231b",
   "metadata": {},
   "outputs": [],
   "source": [
    "seconds = time.time() - start_time"
   ]
  },
  {
   "cell_type": "code",
   "execution_count": 58,
   "id": "47344f90",
   "metadata": {},
   "outputs": [
    {
     "name": "stdout",
     "output_type": "stream",
     "text": [
      "Time Taken: 00:00:44\n"
     ]
    }
   ],
   "source": [
    "print('Time Taken:', time.strftime(\"%H:%M:%S\",time.gmtime(seconds)))"
   ]
  },
  {
   "cell_type": "code",
   "execution_count": null,
   "id": "b529b993",
   "metadata": {},
   "outputs": [],
   "source": []
  }
 ],
 "metadata": {
  "kernelspec": {
   "display_name": "Python 3 (ipykernel)",
   "language": "python",
   "name": "python3"
  },
  "language_info": {
   "codemirror_mode": {
    "name": "ipython",
    "version": 3
   },
   "file_extension": ".py",
   "mimetype": "text/x-python",
   "name": "python",
   "nbconvert_exporter": "python",
   "pygments_lexer": "ipython3",
   "version": "3.10.4"
  }
 },
 "nbformat": 4,
 "nbformat_minor": 5
}
